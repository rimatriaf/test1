{
  "nbformat": 4,
  "nbformat_minor": 0,
  "metadata": {
    "colab": {
      "provenance": [],
      "authorship_tag": "ABX9TyPdWPVEDaWtyaRhRWEjrKNq",
      "include_colab_link": true
    },
    "kernelspec": {
      "name": "python3",
      "display_name": "Python 3"
    },
    "language_info": {
      "name": "python"
    }
  },
  "cells": [
    {
      "cell_type": "markdown",
      "metadata": {
        "id": "view-in-github",
        "colab_type": "text"
      },
      "source": [
        "<a href=\"https://colab.research.google.com/github/rimatriaf/test1/blob/main/Student%20Mental%20Health.ipynb\" target=\"_parent\"><img src=\"https://colab.research.google.com/assets/colab-badge.svg\" alt=\"Open In Colab\"/></a>"
      ]
    },
    {
      "cell_type": "code",
      "execution_count": 1,
      "metadata": {
        "id": "eFijgu5q8RqC"
      },
      "outputs": [],
      "source": [
        "!pip install -q kaggle"
      ]
    },
    {
      "cell_type": "code",
      "source": [
        "!mkdir ~/.kaggle"
      ],
      "metadata": {
        "id": "hmxHfqJc9NFj"
      },
      "execution_count": null,
      "outputs": []
    },
    {
      "cell_type": "code",
      "source": [
        "!cp kaggle.json ~/.kaggle"
      ],
      "metadata": {
        "id": "yEUEKTrM9XfL"
      },
      "execution_count": 5,
      "outputs": []
    },
    {
      "cell_type": "code",
      "source": [
        "!chmod 600 ~/.kaggle/kaggle.json"
      ],
      "metadata": {
        "id": "LgfHniMY9pw9"
      },
      "execution_count": 4,
      "outputs": []
    },
    {
      "cell_type": "code",
      "source": [
        "!kaggle datasets list"
      ],
      "metadata": {
        "colab": {
          "base_uri": "https://localhost:8080/"
        },
        "id": "hHJ5roZi-N0y",
        "outputId": "a02f4923-be38-4a1f-dac6-16529b5d3898"
      },
      "execution_count": 7,
      "outputs": [
        {
          "output_type": "stream",
          "name": "stdout",
          "text": [
            "ref                                                         title                                       size  lastUpdated          downloadCount  voteCount  usabilityRating  \n",
            "----------------------------------------------------------  -----------------------------------------  -----  -------------------  -------------  ---------  ---------------  \n",
            "iamsouravbanerjee/customer-shopping-trends-dataset          Customer Shopping Trends Dataset           146KB  2023-10-05 06:45:37           8561        196  1.0              \n",
            "nelgiriyewithana/top-spotify-songs-2023                     Most Streamed Spotify Songs 2023            47KB  2023-08-26 11:04:57          37141       1086  1.0              \n",
            "nelgiriyewithana/billionaires-statistics-dataset            Billionaires Statistics Dataset (2023)     139KB  2023-09-29 13:39:28           4582        122  1.0              \n",
            "bkcoban/customer-transactions                               Customer Transactions                        1MB  2023-10-15 17:59:17            936         23  1.0              \n",
            "nelgiriyewithana/credit-card-fraud-detection-dataset-2023   Credit Card Fraud Detection Dataset 2023   143MB  2023-09-18 10:00:19           7020        224  1.0              \n",
            "willianoliveiragibin/data-jobs-salaries                     Data jobs salaries                          51KB  2023-10-18 20:21:11            388         22  1.0              \n",
            "anshtanwar/monthly-food-price-estimates                     Global Food Price Inflation                254KB  2023-10-21 15:33:25           2757         65  1.0              \n",
            "yakhyojon/tiktok                                            TikTok User Engagement Data                794KB  2023-10-18 01:21:10            718         27  1.0              \n",
            "muhammadawaistayyab/amazon-movies-and-films                 Amazon- Movies and Films                    92KB  2023-10-15 01:42:04           1091         39  1.0              \n",
            "rajatsurana979/hotel-reservation-data-repository            Hotel Reservation Data Repository            4MB  2023-10-17 04:02:28            298         29  1.0              \n",
            "iamsouravbanerjee/heart-attack-prediction-dataset           Heart Attack Risk Prediction Dataset       519KB  2023-09-27 07:07:50           3818         84  1.0              \n",
            "iamsouravbanerjee/cars-dataset                              Cars Dataset                               571KB  2023-10-17 05:58:29            814         30  1.0              \n",
            "willianoliveiragibin/10000-data-about-movies-1915-2023      10,000 Data  about movies (1915 - 2023)      1MB  2023-10-11 19:31:12           1508         40  1.0              \n",
            "sujaykapadnis/spotify-songs                                 spotify songs                                3MB  2023-10-17 09:17:20            635         23  1.0              \n",
            "teamincribo/cyber-security-attacks                          Cyber Security Attacks                       5MB  2023-10-14 14:12:52            956         30  0.9411765        \n",
            "sujaykapadnis/salaries-by-gender                            Salaries by gender                          44KB  2023-10-11 14:06:43            511         62  1.0              \n",
            "willianoliveiragibin/fatalities-in-the-israeli-palestinian  Fatalities in the Israeli-Palestinian      463KB  2023-10-10 19:02:21           1094         60  1.0              \n",
            "amohankumar/global-nutrition-report-dataset                 Global Nutrition Report Dataset            127KB  2023-10-18 05:33:00            277         22  1.0              \n",
            "asaniczka/wages-by-education-in-the-usa-1973-2022           Wages by Education in the USA (1973-2022)    7KB  2023-10-09 09:43:40           1749         50  1.0              \n",
            "kwongmeiki/forbes-worlds-best-employers-2023                Forbes World’s Best Employers 2023          12KB  2023-10-14 14:52:12            480         24  1.0              \n"
          ]
        }
      ]
    },
    {
      "cell_type": "code",
      "source": [
        "!kaggle datasets download -d 'shariful07/student-mental-health'"
      ],
      "metadata": {
        "colab": {
          "base_uri": "https://localhost:8080/"
        },
        "id": "878nEcxO-X_9",
        "outputId": "2a187de7-1127-4ab5-e44c-ac28a6bbe49d"
      },
      "execution_count": 8,
      "outputs": [
        {
          "output_type": "stream",
          "name": "stdout",
          "text": [
            "Downloading student-mental-health.zip to /content\n",
            "\r  0% 0.00/1.62k [00:00<?, ?B/s]\n",
            "\r100% 1.62k/1.62k [00:00<00:00, 3.07MB/s]\n"
          ]
        }
      ]
    },
    {
      "cell_type": "code",
      "source": [
        "import zipfile"
      ],
      "metadata": {
        "id": "ijkvyYrC_oRm"
      },
      "execution_count": 10,
      "outputs": []
    },
    {
      "cell_type": "code",
      "source": [
        "dataset_zip = zipfile.ZipFile('student-mental-health.zip', 'r')\n",
        "dataset_zip.extractall()\n",
        "dataset_zip.close()"
      ],
      "metadata": {
        "id": "KAGOKQhYAZsP"
      },
      "execution_count": 12,
      "outputs": []
    },
    {
      "cell_type": "code",
      "source": [],
      "metadata": {
        "id": "r6_XNdJgEMSl"
      },
      "execution_count": null,
      "outputs": []
    },
    {
      "cell_type": "markdown",
      "source": [
        "# **Which gender is the most mental health?**"
      ],
      "metadata": {
        "id": "IeaHK4HYB2fJ"
      }
    },
    {
      "cell_type": "code",
      "source": [],
      "metadata": {
        "id": "qlWjhceiBB22"
      },
      "execution_count": null,
      "outputs": []
    }
  ]
}